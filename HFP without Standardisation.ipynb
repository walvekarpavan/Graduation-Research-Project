{
 "cells": [
  {
   "cell_type": "markdown",
   "id": "4f0a47f9",
   "metadata": {},
   "source": [
    "__Importing libraries for the evaluation -__"
   ]
  },
  {
   "cell_type": "code",
   "execution_count": 1,
   "id": "4a8288f5",
   "metadata": {},
   "outputs": [],
   "source": [
    "import pandas as pd #for datasets \n",
    "import numpy as np #for mathematical operation on arrays and matrices\n",
    "%matplotlib inline\n",
    "import seaborn as sns\n",
    "import matplotlib.pyplot as plt #for exploratory data analysis\n",
    "import matplotlib.gridspec as gridspec #used to specify the geometry of the grid to place a subplot\n",
    "import mpld3 as mpl #create interactive visualizations from Matplotlib plots\n",
    "import warnings\n",
    "warnings.filterwarnings(\"ignore\")"
   ]
  },
  {
   "cell_type": "markdown",
   "id": "64ea0e77",
   "metadata": {},
   "source": [
    "---"
   ]
  },
  {
   "cell_type": "markdown",
   "id": "332e366d",
   "metadata": {},
   "source": [
    "__Importing the dataset -__"
   ]
  },
  {
   "cell_type": "code",
   "execution_count": 2,
   "id": "fc0d771e",
   "metadata": {},
   "outputs": [],
   "source": [
    "#importing the data with a variable name - \"dataset\"\n",
    "dataset = pd.read_csv('/Users/--/Documents/RHUL 22-23/Project/Datasets/Heart Faliure Prediction/heart-failure.csv')"
   ]
  },
  {
   "cell_type": "markdown",
   "id": "49df7955",
   "metadata": {},
   "source": [
    "---"
   ]
  },
  {
   "cell_type": "markdown",
   "id": "c38b460b",
   "metadata": {},
   "source": [
    "__Data preprocessing -__"
   ]
  },
  {
   "cell_type": "code",
   "execution_count": 3,
   "id": "9f2da65e",
   "metadata": {},
   "outputs": [
    {
     "data": {
      "text/html": [
       "<div>\n",
       "<style scoped>\n",
       "    .dataframe tbody tr th:only-of-type {\n",
       "        vertical-align: middle;\n",
       "    }\n",
       "\n",
       "    .dataframe tbody tr th {\n",
       "        vertical-align: top;\n",
       "    }\n",
       "\n",
       "    .dataframe thead th {\n",
       "        text-align: right;\n",
       "    }\n",
       "</style>\n",
       "<table border=\"1\" class=\"dataframe\">\n",
       "  <thead>\n",
       "    <tr style=\"text-align: right;\">\n",
       "      <th></th>\n",
       "      <th>Age</th>\n",
       "      <th>Sex</th>\n",
       "      <th>ChestPainType</th>\n",
       "      <th>RestingBP</th>\n",
       "      <th>Cholesterol</th>\n",
       "      <th>FastingBS</th>\n",
       "      <th>RestingECG</th>\n",
       "      <th>MaxHR</th>\n",
       "      <th>ExerciseAngina</th>\n",
       "      <th>Oldpeak</th>\n",
       "      <th>ST_Slope</th>\n",
       "      <th>HeartDisease</th>\n",
       "    </tr>\n",
       "  </thead>\n",
       "  <tbody>\n",
       "    <tr>\n",
       "      <th>0</th>\n",
       "      <td>40</td>\n",
       "      <td>M</td>\n",
       "      <td>ATA</td>\n",
       "      <td>140</td>\n",
       "      <td>289</td>\n",
       "      <td>0</td>\n",
       "      <td>Normal</td>\n",
       "      <td>172</td>\n",
       "      <td>N</td>\n",
       "      <td>0.0</td>\n",
       "      <td>Up</td>\n",
       "      <td>0</td>\n",
       "    </tr>\n",
       "    <tr>\n",
       "      <th>1</th>\n",
       "      <td>49</td>\n",
       "      <td>F</td>\n",
       "      <td>NAP</td>\n",
       "      <td>160</td>\n",
       "      <td>180</td>\n",
       "      <td>0</td>\n",
       "      <td>Normal</td>\n",
       "      <td>156</td>\n",
       "      <td>N</td>\n",
       "      <td>1.0</td>\n",
       "      <td>Flat</td>\n",
       "      <td>1</td>\n",
       "    </tr>\n",
       "    <tr>\n",
       "      <th>2</th>\n",
       "      <td>37</td>\n",
       "      <td>M</td>\n",
       "      <td>ATA</td>\n",
       "      <td>130</td>\n",
       "      <td>283</td>\n",
       "      <td>0</td>\n",
       "      <td>ST</td>\n",
       "      <td>98</td>\n",
       "      <td>N</td>\n",
       "      <td>0.0</td>\n",
       "      <td>Up</td>\n",
       "      <td>0</td>\n",
       "    </tr>\n",
       "    <tr>\n",
       "      <th>3</th>\n",
       "      <td>48</td>\n",
       "      <td>F</td>\n",
       "      <td>ASY</td>\n",
       "      <td>138</td>\n",
       "      <td>214</td>\n",
       "      <td>0</td>\n",
       "      <td>Normal</td>\n",
       "      <td>108</td>\n",
       "      <td>Y</td>\n",
       "      <td>1.5</td>\n",
       "      <td>Flat</td>\n",
       "      <td>1</td>\n",
       "    </tr>\n",
       "    <tr>\n",
       "      <th>4</th>\n",
       "      <td>54</td>\n",
       "      <td>M</td>\n",
       "      <td>NAP</td>\n",
       "      <td>150</td>\n",
       "      <td>195</td>\n",
       "      <td>0</td>\n",
       "      <td>Normal</td>\n",
       "      <td>122</td>\n",
       "      <td>N</td>\n",
       "      <td>0.0</td>\n",
       "      <td>Up</td>\n",
       "      <td>0</td>\n",
       "    </tr>\n",
       "  </tbody>\n",
       "</table>\n",
       "</div>"
      ],
      "text/plain": [
       "   Age Sex ChestPainType  RestingBP  Cholesterol  FastingBS RestingECG  MaxHR  \\\n",
       "0   40   M           ATA        140          289          0     Normal    172   \n",
       "1   49   F           NAP        160          180          0     Normal    156   \n",
       "2   37   M           ATA        130          283          0         ST     98   \n",
       "3   48   F           ASY        138          214          0     Normal    108   \n",
       "4   54   M           NAP        150          195          0     Normal    122   \n",
       "\n",
       "  ExerciseAngina  Oldpeak ST_Slope  HeartDisease  \n",
       "0              N      0.0       Up             0  \n",
       "1              N      1.0     Flat             1  \n",
       "2              N      0.0       Up             0  \n",
       "3              Y      1.5     Flat             1  \n",
       "4              N      0.0       Up             0  "
      ]
     },
     "execution_count": 3,
     "metadata": {},
     "output_type": "execute_result"
    }
   ],
   "source": [
    "dataset.head()"
   ]
  },
  {
   "cell_type": "code",
   "execution_count": 4,
   "id": "a753f1de",
   "metadata": {},
   "outputs": [
    {
     "data": {
      "text/html": [
       "<div>\n",
       "<style scoped>\n",
       "    .dataframe tbody tr th:only-of-type {\n",
       "        vertical-align: middle;\n",
       "    }\n",
       "\n",
       "    .dataframe tbody tr th {\n",
       "        vertical-align: top;\n",
       "    }\n",
       "\n",
       "    .dataframe thead th {\n",
       "        text-align: right;\n",
       "    }\n",
       "</style>\n",
       "<table border=\"1\" class=\"dataframe\">\n",
       "  <thead>\n",
       "    <tr style=\"text-align: right;\">\n",
       "      <th></th>\n",
       "      <th>Age</th>\n",
       "      <th>RestingBP</th>\n",
       "      <th>Cholesterol</th>\n",
       "      <th>FastingBS</th>\n",
       "      <th>MaxHR</th>\n",
       "      <th>Oldpeak</th>\n",
       "      <th>HeartDisease</th>\n",
       "    </tr>\n",
       "  </thead>\n",
       "  <tbody>\n",
       "    <tr>\n",
       "      <th>count</th>\n",
       "      <td>918.000000</td>\n",
       "      <td>918.000000</td>\n",
       "      <td>918.000000</td>\n",
       "      <td>918.000000</td>\n",
       "      <td>918.000000</td>\n",
       "      <td>918.000000</td>\n",
       "      <td>918.000000</td>\n",
       "    </tr>\n",
       "    <tr>\n",
       "      <th>mean</th>\n",
       "      <td>53.510893</td>\n",
       "      <td>132.396514</td>\n",
       "      <td>198.799564</td>\n",
       "      <td>0.233115</td>\n",
       "      <td>136.809368</td>\n",
       "      <td>0.887364</td>\n",
       "      <td>0.553377</td>\n",
       "    </tr>\n",
       "    <tr>\n",
       "      <th>std</th>\n",
       "      <td>9.432617</td>\n",
       "      <td>18.514154</td>\n",
       "      <td>109.384145</td>\n",
       "      <td>0.423046</td>\n",
       "      <td>25.460334</td>\n",
       "      <td>1.066570</td>\n",
       "      <td>0.497414</td>\n",
       "    </tr>\n",
       "    <tr>\n",
       "      <th>min</th>\n",
       "      <td>28.000000</td>\n",
       "      <td>0.000000</td>\n",
       "      <td>0.000000</td>\n",
       "      <td>0.000000</td>\n",
       "      <td>60.000000</td>\n",
       "      <td>-2.600000</td>\n",
       "      <td>0.000000</td>\n",
       "    </tr>\n",
       "    <tr>\n",
       "      <th>25%</th>\n",
       "      <td>47.000000</td>\n",
       "      <td>120.000000</td>\n",
       "      <td>173.250000</td>\n",
       "      <td>0.000000</td>\n",
       "      <td>120.000000</td>\n",
       "      <td>0.000000</td>\n",
       "      <td>0.000000</td>\n",
       "    </tr>\n",
       "    <tr>\n",
       "      <th>50%</th>\n",
       "      <td>54.000000</td>\n",
       "      <td>130.000000</td>\n",
       "      <td>223.000000</td>\n",
       "      <td>0.000000</td>\n",
       "      <td>138.000000</td>\n",
       "      <td>0.600000</td>\n",
       "      <td>1.000000</td>\n",
       "    </tr>\n",
       "    <tr>\n",
       "      <th>75%</th>\n",
       "      <td>60.000000</td>\n",
       "      <td>140.000000</td>\n",
       "      <td>267.000000</td>\n",
       "      <td>0.000000</td>\n",
       "      <td>156.000000</td>\n",
       "      <td>1.500000</td>\n",
       "      <td>1.000000</td>\n",
       "    </tr>\n",
       "    <tr>\n",
       "      <th>max</th>\n",
       "      <td>77.000000</td>\n",
       "      <td>200.000000</td>\n",
       "      <td>603.000000</td>\n",
       "      <td>1.000000</td>\n",
       "      <td>202.000000</td>\n",
       "      <td>6.200000</td>\n",
       "      <td>1.000000</td>\n",
       "    </tr>\n",
       "  </tbody>\n",
       "</table>\n",
       "</div>"
      ],
      "text/plain": [
       "              Age   RestingBP  Cholesterol   FastingBS       MaxHR  \\\n",
       "count  918.000000  918.000000   918.000000  918.000000  918.000000   \n",
       "mean    53.510893  132.396514   198.799564    0.233115  136.809368   \n",
       "std      9.432617   18.514154   109.384145    0.423046   25.460334   \n",
       "min     28.000000    0.000000     0.000000    0.000000   60.000000   \n",
       "25%     47.000000  120.000000   173.250000    0.000000  120.000000   \n",
       "50%     54.000000  130.000000   223.000000    0.000000  138.000000   \n",
       "75%     60.000000  140.000000   267.000000    0.000000  156.000000   \n",
       "max     77.000000  200.000000   603.000000    1.000000  202.000000   \n",
       "\n",
       "          Oldpeak  HeartDisease  \n",
       "count  918.000000    918.000000  \n",
       "mean     0.887364      0.553377  \n",
       "std      1.066570      0.497414  \n",
       "min     -2.600000      0.000000  \n",
       "25%      0.000000      0.000000  \n",
       "50%      0.600000      1.000000  \n",
       "75%      1.500000      1.000000  \n",
       "max      6.200000      1.000000  "
      ]
     },
     "execution_count": 4,
     "metadata": {},
     "output_type": "execute_result"
    }
   ],
   "source": [
    "dataset.describe()"
   ]
  },
  {
   "cell_type": "code",
   "execution_count": 5,
   "id": "e9d0c337",
   "metadata": {},
   "outputs": [
    {
     "name": "stdout",
     "output_type": "stream",
     "text": [
      "<class 'pandas.core.frame.DataFrame'>\n",
      "RangeIndex: 918 entries, 0 to 917\n",
      "Data columns (total 12 columns):\n",
      " #   Column          Non-Null Count  Dtype  \n",
      "---  ------          --------------  -----  \n",
      " 0   Age             918 non-null    int64  \n",
      " 1   Sex             918 non-null    object \n",
      " 2   ChestPainType   918 non-null    object \n",
      " 3   RestingBP       918 non-null    int64  \n",
      " 4   Cholesterol     918 non-null    int64  \n",
      " 5   FastingBS       918 non-null    int64  \n",
      " 6   RestingECG      918 non-null    object \n",
      " 7   MaxHR           918 non-null    int64  \n",
      " 8   ExerciseAngina  918 non-null    object \n",
      " 9   Oldpeak         918 non-null    float64\n",
      " 10  ST_Slope        918 non-null    object \n",
      " 11  HeartDisease    918 non-null    int64  \n",
      "dtypes: float64(1), int64(6), object(5)\n",
      "memory usage: 86.2+ KB\n"
     ]
    }
   ],
   "source": [
    "dataset.info()"
   ]
  },
  {
   "cell_type": "code",
   "execution_count": 6,
   "id": "560feda2",
   "metadata": {},
   "outputs": [
    {
     "data": {
      "text/plain": [
       "array(['M', 'F'], dtype=object)"
      ]
     },
     "execution_count": 6,
     "metadata": {},
     "output_type": "execute_result"
    }
   ],
   "source": [
    "dataset['Sex'].unique()"
   ]
  },
  {
   "cell_type": "code",
   "execution_count": 7,
   "id": "936eb730",
   "metadata": {},
   "outputs": [],
   "source": [
    "#Changing the Sex column into categorical values\n",
    "dataset['Sex'] = dataset['Sex'].map({'M':0,'F':1})"
   ]
  },
  {
   "cell_type": "code",
   "execution_count": 8,
   "id": "05dbf10c",
   "metadata": {},
   "outputs": [
    {
     "data": {
      "text/plain": [
       "array(['ATA', 'NAP', 'ASY', 'TA'], dtype=object)"
      ]
     },
     "execution_count": 8,
     "metadata": {},
     "output_type": "execute_result"
    }
   ],
   "source": [
    "dataset['ChestPainType'].unique()"
   ]
  },
  {
   "cell_type": "code",
   "execution_count": 9,
   "id": "a7049b51",
   "metadata": {},
   "outputs": [],
   "source": [
    "#Changing the ChestPainType column into categorical values\n",
    "dataset['ChestPainType'] = dataset['ChestPainType'].map({'ATA':0,'NAP':1, 'ASY':2, 'TA':3})  "
   ]
  },
  {
   "cell_type": "code",
   "execution_count": 10,
   "id": "7543aded",
   "metadata": {},
   "outputs": [
    {
     "data": {
      "text/plain": [
       "array(['Normal', 'ST', 'LVH'], dtype=object)"
      ]
     },
     "execution_count": 10,
     "metadata": {},
     "output_type": "execute_result"
    }
   ],
   "source": [
    "dataset['RestingECG'].unique()"
   ]
  },
  {
   "cell_type": "code",
   "execution_count": 11,
   "id": "7749bfa2",
   "metadata": {},
   "outputs": [],
   "source": [
    "#Changing the RestingECG column into categorical values\n",
    "dataset['RestingECG'] = dataset['RestingECG'].map({'Normal':0,'ST':1, 'LVH':2})  "
   ]
  },
  {
   "cell_type": "code",
   "execution_count": 12,
   "id": "8da615cb",
   "metadata": {},
   "outputs": [
    {
     "data": {
      "text/plain": [
       "array(['N', 'Y'], dtype=object)"
      ]
     },
     "execution_count": 12,
     "metadata": {},
     "output_type": "execute_result"
    }
   ],
   "source": [
    "dataset['ExerciseAngina'].unique()"
   ]
  },
  {
   "cell_type": "code",
   "execution_count": 13,
   "id": "ed4781cc",
   "metadata": {},
   "outputs": [],
   "source": [
    "#Changing the ExerciseAngina column into categorical values\n",
    "dataset['ExerciseAngina'] = dataset['ExerciseAngina'].map({'N':0,'Y':1})  "
   ]
  },
  {
   "cell_type": "code",
   "execution_count": 14,
   "id": "99f1e3d8",
   "metadata": {},
   "outputs": [
    {
     "data": {
      "text/plain": [
       "array(['Up', 'Flat', 'Down'], dtype=object)"
      ]
     },
     "execution_count": 14,
     "metadata": {},
     "output_type": "execute_result"
    }
   ],
   "source": [
    "dataset['ST_Slope'].unique()"
   ]
  },
  {
   "cell_type": "code",
   "execution_count": 15,
   "id": "64a31290",
   "metadata": {},
   "outputs": [],
   "source": [
    "#Changing the ST_Slope column into categorical values\n",
    "dataset['ST_Slope'] = dataset['ST_Slope'].map({'Up':0,'Flat':1, 'Down':2})"
   ]
  },
  {
   "cell_type": "code",
   "execution_count": 16,
   "id": "8fc9b647",
   "metadata": {},
   "outputs": [
    {
     "data": {
      "text/html": [
       "<div>\n",
       "<style scoped>\n",
       "    .dataframe tbody tr th:only-of-type {\n",
       "        vertical-align: middle;\n",
       "    }\n",
       "\n",
       "    .dataframe tbody tr th {\n",
       "        vertical-align: top;\n",
       "    }\n",
       "\n",
       "    .dataframe thead th {\n",
       "        text-align: right;\n",
       "    }\n",
       "</style>\n",
       "<table border=\"1\" class=\"dataframe\">\n",
       "  <thead>\n",
       "    <tr style=\"text-align: right;\">\n",
       "      <th></th>\n",
       "      <th>Age</th>\n",
       "      <th>Sex</th>\n",
       "      <th>ChestPainType</th>\n",
       "      <th>RestingBP</th>\n",
       "      <th>Cholesterol</th>\n",
       "      <th>FastingBS</th>\n",
       "      <th>RestingECG</th>\n",
       "      <th>MaxHR</th>\n",
       "      <th>ExerciseAngina</th>\n",
       "      <th>Oldpeak</th>\n",
       "      <th>ST_Slope</th>\n",
       "      <th>HeartDisease</th>\n",
       "    </tr>\n",
       "  </thead>\n",
       "  <tbody>\n",
       "    <tr>\n",
       "      <th>0</th>\n",
       "      <td>40</td>\n",
       "      <td>0</td>\n",
       "      <td>0</td>\n",
       "      <td>140</td>\n",
       "      <td>289</td>\n",
       "      <td>0</td>\n",
       "      <td>0</td>\n",
       "      <td>172</td>\n",
       "      <td>0</td>\n",
       "      <td>0.0</td>\n",
       "      <td>0</td>\n",
       "      <td>0</td>\n",
       "    </tr>\n",
       "    <tr>\n",
       "      <th>1</th>\n",
       "      <td>49</td>\n",
       "      <td>1</td>\n",
       "      <td>1</td>\n",
       "      <td>160</td>\n",
       "      <td>180</td>\n",
       "      <td>0</td>\n",
       "      <td>0</td>\n",
       "      <td>156</td>\n",
       "      <td>0</td>\n",
       "      <td>1.0</td>\n",
       "      <td>1</td>\n",
       "      <td>1</td>\n",
       "    </tr>\n",
       "    <tr>\n",
       "      <th>2</th>\n",
       "      <td>37</td>\n",
       "      <td>0</td>\n",
       "      <td>0</td>\n",
       "      <td>130</td>\n",
       "      <td>283</td>\n",
       "      <td>0</td>\n",
       "      <td>1</td>\n",
       "      <td>98</td>\n",
       "      <td>0</td>\n",
       "      <td>0.0</td>\n",
       "      <td>0</td>\n",
       "      <td>0</td>\n",
       "    </tr>\n",
       "    <tr>\n",
       "      <th>3</th>\n",
       "      <td>48</td>\n",
       "      <td>1</td>\n",
       "      <td>2</td>\n",
       "      <td>138</td>\n",
       "      <td>214</td>\n",
       "      <td>0</td>\n",
       "      <td>0</td>\n",
       "      <td>108</td>\n",
       "      <td>1</td>\n",
       "      <td>1.5</td>\n",
       "      <td>1</td>\n",
       "      <td>1</td>\n",
       "    </tr>\n",
       "    <tr>\n",
       "      <th>4</th>\n",
       "      <td>54</td>\n",
       "      <td>0</td>\n",
       "      <td>1</td>\n",
       "      <td>150</td>\n",
       "      <td>195</td>\n",
       "      <td>0</td>\n",
       "      <td>0</td>\n",
       "      <td>122</td>\n",
       "      <td>0</td>\n",
       "      <td>0.0</td>\n",
       "      <td>0</td>\n",
       "      <td>0</td>\n",
       "    </tr>\n",
       "  </tbody>\n",
       "</table>\n",
       "</div>"
      ],
      "text/plain": [
       "   Age  Sex  ChestPainType  RestingBP  Cholesterol  FastingBS  RestingECG  \\\n",
       "0   40    0              0        140          289          0           0   \n",
       "1   49    1              1        160          180          0           0   \n",
       "2   37    0              0        130          283          0           1   \n",
       "3   48    1              2        138          214          0           0   \n",
       "4   54    0              1        150          195          0           0   \n",
       "\n",
       "   MaxHR  ExerciseAngina  Oldpeak  ST_Slope  HeartDisease  \n",
       "0    172               0      0.0         0             0  \n",
       "1    156               0      1.0         1             1  \n",
       "2     98               0      0.0         0             0  \n",
       "3    108               1      1.5         1             1  \n",
       "4    122               0      0.0         0             0  "
      ]
     },
     "execution_count": 16,
     "metadata": {},
     "output_type": "execute_result"
    }
   ],
   "source": [
    "dataset.head()"
   ]
  },
  {
   "cell_type": "code",
   "execution_count": 17,
   "id": "e2be9543",
   "metadata": {},
   "outputs": [
    {
     "data": {
      "text/html": [
       "<div>\n",
       "<style scoped>\n",
       "    .dataframe tbody tr th:only-of-type {\n",
       "        vertical-align: middle;\n",
       "    }\n",
       "\n",
       "    .dataframe tbody tr th {\n",
       "        vertical-align: top;\n",
       "    }\n",
       "\n",
       "    .dataframe thead th {\n",
       "        text-align: right;\n",
       "    }\n",
       "</style>\n",
       "<table border=\"1\" class=\"dataframe\">\n",
       "  <thead>\n",
       "    <tr style=\"text-align: right;\">\n",
       "      <th></th>\n",
       "      <th>Age</th>\n",
       "      <th>Sex</th>\n",
       "      <th>ChestPainType</th>\n",
       "      <th>RestingBP</th>\n",
       "      <th>Cholesterol</th>\n",
       "      <th>FastingBS</th>\n",
       "      <th>RestingECG</th>\n",
       "      <th>MaxHR</th>\n",
       "      <th>ExerciseAngina</th>\n",
       "      <th>Oldpeak</th>\n",
       "      <th>ST_Slope</th>\n",
       "      <th>HeartDisease</th>\n",
       "    </tr>\n",
       "  </thead>\n",
       "  <tbody>\n",
       "    <tr>\n",
       "      <th>count</th>\n",
       "      <td>918.000000</td>\n",
       "      <td>918.000000</td>\n",
       "      <td>918.000000</td>\n",
       "      <td>918.000000</td>\n",
       "      <td>918.000000</td>\n",
       "      <td>918.000000</td>\n",
       "      <td>918.000000</td>\n",
       "      <td>918.000000</td>\n",
       "      <td>918.000000</td>\n",
       "      <td>918.000000</td>\n",
       "      <td>918.000000</td>\n",
       "      <td>918.000000</td>\n",
       "    </tr>\n",
       "    <tr>\n",
       "      <th>mean</th>\n",
       "      <td>53.510893</td>\n",
       "      <td>0.210240</td>\n",
       "      <td>1.452070</td>\n",
       "      <td>132.396514</td>\n",
       "      <td>198.799564</td>\n",
       "      <td>0.233115</td>\n",
       "      <td>0.603486</td>\n",
       "      <td>136.809368</td>\n",
       "      <td>0.404139</td>\n",
       "      <td>0.887364</td>\n",
       "      <td>0.638344</td>\n",
       "      <td>0.553377</td>\n",
       "    </tr>\n",
       "    <tr>\n",
       "      <th>std</th>\n",
       "      <td>9.432617</td>\n",
       "      <td>0.407701</td>\n",
       "      <td>0.851832</td>\n",
       "      <td>18.514154</td>\n",
       "      <td>109.384145</td>\n",
       "      <td>0.423046</td>\n",
       "      <td>0.805968</td>\n",
       "      <td>25.460334</td>\n",
       "      <td>0.490992</td>\n",
       "      <td>1.066570</td>\n",
       "      <td>0.607056</td>\n",
       "      <td>0.497414</td>\n",
       "    </tr>\n",
       "    <tr>\n",
       "      <th>min</th>\n",
       "      <td>28.000000</td>\n",
       "      <td>0.000000</td>\n",
       "      <td>0.000000</td>\n",
       "      <td>0.000000</td>\n",
       "      <td>0.000000</td>\n",
       "      <td>0.000000</td>\n",
       "      <td>0.000000</td>\n",
       "      <td>60.000000</td>\n",
       "      <td>0.000000</td>\n",
       "      <td>-2.600000</td>\n",
       "      <td>0.000000</td>\n",
       "      <td>0.000000</td>\n",
       "    </tr>\n",
       "    <tr>\n",
       "      <th>25%</th>\n",
       "      <td>47.000000</td>\n",
       "      <td>0.000000</td>\n",
       "      <td>1.000000</td>\n",
       "      <td>120.000000</td>\n",
       "      <td>173.250000</td>\n",
       "      <td>0.000000</td>\n",
       "      <td>0.000000</td>\n",
       "      <td>120.000000</td>\n",
       "      <td>0.000000</td>\n",
       "      <td>0.000000</td>\n",
       "      <td>0.000000</td>\n",
       "      <td>0.000000</td>\n",
       "    </tr>\n",
       "    <tr>\n",
       "      <th>50%</th>\n",
       "      <td>54.000000</td>\n",
       "      <td>0.000000</td>\n",
       "      <td>2.000000</td>\n",
       "      <td>130.000000</td>\n",
       "      <td>223.000000</td>\n",
       "      <td>0.000000</td>\n",
       "      <td>0.000000</td>\n",
       "      <td>138.000000</td>\n",
       "      <td>0.000000</td>\n",
       "      <td>0.600000</td>\n",
       "      <td>1.000000</td>\n",
       "      <td>1.000000</td>\n",
       "    </tr>\n",
       "    <tr>\n",
       "      <th>75%</th>\n",
       "      <td>60.000000</td>\n",
       "      <td>0.000000</td>\n",
       "      <td>2.000000</td>\n",
       "      <td>140.000000</td>\n",
       "      <td>267.000000</td>\n",
       "      <td>0.000000</td>\n",
       "      <td>1.000000</td>\n",
       "      <td>156.000000</td>\n",
       "      <td>1.000000</td>\n",
       "      <td>1.500000</td>\n",
       "      <td>1.000000</td>\n",
       "      <td>1.000000</td>\n",
       "    </tr>\n",
       "    <tr>\n",
       "      <th>max</th>\n",
       "      <td>77.000000</td>\n",
       "      <td>1.000000</td>\n",
       "      <td>3.000000</td>\n",
       "      <td>200.000000</td>\n",
       "      <td>603.000000</td>\n",
       "      <td>1.000000</td>\n",
       "      <td>2.000000</td>\n",
       "      <td>202.000000</td>\n",
       "      <td>1.000000</td>\n",
       "      <td>6.200000</td>\n",
       "      <td>2.000000</td>\n",
       "      <td>1.000000</td>\n",
       "    </tr>\n",
       "  </tbody>\n",
       "</table>\n",
       "</div>"
      ],
      "text/plain": [
       "              Age         Sex  ChestPainType   RestingBP  Cholesterol  \\\n",
       "count  918.000000  918.000000     918.000000  918.000000   918.000000   \n",
       "mean    53.510893    0.210240       1.452070  132.396514   198.799564   \n",
       "std      9.432617    0.407701       0.851832   18.514154   109.384145   \n",
       "min     28.000000    0.000000       0.000000    0.000000     0.000000   \n",
       "25%     47.000000    0.000000       1.000000  120.000000   173.250000   \n",
       "50%     54.000000    0.000000       2.000000  130.000000   223.000000   \n",
       "75%     60.000000    0.000000       2.000000  140.000000   267.000000   \n",
       "max     77.000000    1.000000       3.000000  200.000000   603.000000   \n",
       "\n",
       "        FastingBS  RestingECG       MaxHR  ExerciseAngina     Oldpeak  \\\n",
       "count  918.000000  918.000000  918.000000      918.000000  918.000000   \n",
       "mean     0.233115    0.603486  136.809368        0.404139    0.887364   \n",
       "std      0.423046    0.805968   25.460334        0.490992    1.066570   \n",
       "min      0.000000    0.000000   60.000000        0.000000   -2.600000   \n",
       "25%      0.000000    0.000000  120.000000        0.000000    0.000000   \n",
       "50%      0.000000    0.000000  138.000000        0.000000    0.600000   \n",
       "75%      0.000000    1.000000  156.000000        1.000000    1.500000   \n",
       "max      1.000000    2.000000  202.000000        1.000000    6.200000   \n",
       "\n",
       "         ST_Slope  HeartDisease  \n",
       "count  918.000000    918.000000  \n",
       "mean     0.638344      0.553377  \n",
       "std      0.607056      0.497414  \n",
       "min      0.000000      0.000000  \n",
       "25%      0.000000      0.000000  \n",
       "50%      1.000000      1.000000  \n",
       "75%      1.000000      1.000000  \n",
       "max      2.000000      1.000000  "
      ]
     },
     "execution_count": 17,
     "metadata": {},
     "output_type": "execute_result"
    }
   ],
   "source": [
    "dataset.describe()"
   ]
  },
  {
   "cell_type": "code",
   "execution_count": 18,
   "id": "7a0602d2",
   "metadata": {},
   "outputs": [
    {
     "name": "stdout",
     "output_type": "stream",
     "text": [
      "<class 'pandas.core.frame.DataFrame'>\n",
      "RangeIndex: 918 entries, 0 to 917\n",
      "Data columns (total 12 columns):\n",
      " #   Column          Non-Null Count  Dtype  \n",
      "---  ------          --------------  -----  \n",
      " 0   Age             918 non-null    int64  \n",
      " 1   Sex             918 non-null    int64  \n",
      " 2   ChestPainType   918 non-null    int64  \n",
      " 3   RestingBP       918 non-null    int64  \n",
      " 4   Cholesterol     918 non-null    int64  \n",
      " 5   FastingBS       918 non-null    int64  \n",
      " 6   RestingECG      918 non-null    int64  \n",
      " 7   MaxHR           918 non-null    int64  \n",
      " 8   ExerciseAngina  918 non-null    int64  \n",
      " 9   Oldpeak         918 non-null    float64\n",
      " 10  ST_Slope        918 non-null    int64  \n",
      " 11  HeartDisease    918 non-null    int64  \n",
      "dtypes: float64(1), int64(11)\n",
      "memory usage: 86.2 KB\n"
     ]
    }
   ],
   "source": [
    "dataset.info()"
   ]
  },
  {
   "cell_type": "markdown",
   "id": "c93cbfe2",
   "metadata": {},
   "source": [
    "---"
   ]
  },
  {
   "cell_type": "markdown",
   "id": "20f6d40b",
   "metadata": {},
   "source": [
    "__Data preparation for Test and Train split -__"
   ]
  },
  {
   "cell_type": "code",
   "execution_count": 19,
   "id": "51b84fa8",
   "metadata": {},
   "outputs": [],
   "source": [
    "x = dataset.drop(\"HeartDisease\", axis='columns')\n",
    "y = dataset.HeartDisease"
   ]
  },
  {
   "cell_type": "code",
   "execution_count": 20,
   "id": "1bd1d061",
   "metadata": {},
   "outputs": [
    {
     "data": {
      "text/plain": [
       "Index(['Age', 'Sex', 'ChestPainType', 'RestingBP', 'Cholesterol', 'FastingBS',\n",
       "       'RestingECG', 'MaxHR', 'ExerciseAngina', 'Oldpeak', 'ST_Slope'],\n",
       "      dtype='object')"
      ]
     },
     "execution_count": 20,
     "metadata": {},
     "output_type": "execute_result"
    }
   ],
   "source": [
    "x.columns"
   ]
  },
  {
   "cell_type": "markdown",
   "id": "1f3179aa",
   "metadata": {},
   "source": [
    "---"
   ]
  },
  {
   "cell_type": "markdown",
   "id": "ee73b6ba",
   "metadata": {},
   "source": [
    "__Train and Test -__"
   ]
  },
  {
   "cell_type": "code",
   "execution_count": 21,
   "id": "1e6dffce",
   "metadata": {},
   "outputs": [],
   "source": [
    "from sklearn.model_selection import train_test_split\n",
    "\n",
    "x_train_one, x_test_one, y_train, y_test = train_test_split(x, y, random_state = 10, shuffle=True)"
   ]
  },
  {
   "cell_type": "markdown",
   "id": "4c22a014",
   "metadata": {},
   "source": [
    "---"
   ]
  },
  {
   "cell_type": "markdown",
   "id": "01ed66e4",
   "metadata": {},
   "source": [
    "__Feature selection -__"
   ]
  },
  {
   "cell_type": "code",
   "execution_count": 22,
   "id": "e12a2f6a",
   "metadata": {},
   "outputs": [],
   "source": [
    "from sklearn.feature_selection import SelectKBest, f_classif\n",
    "no_of_features_to_choose = 4\n",
    "best_selected = SelectKBest(score_func = f_classif, k = no_of_features_to_choose)\n",
    "x_train = best_selected.fit_transform(x_train_one, y_train)\n",
    "x_test = best_selected.transform(x_test_one)"
   ]
  },
  {
   "cell_type": "markdown",
   "id": "2b8a5017",
   "metadata": {},
   "source": [
    "---"
   ]
  },
  {
   "cell_type": "markdown",
   "id": "c8bed0cf",
   "metadata": {},
   "source": [
    "__Libraries imported for Bagging and Boosting (Ensemble Methods) -__"
   ]
  },
  {
   "cell_type": "code",
   "execution_count": 23,
   "id": "cbec042f",
   "metadata": {},
   "outputs": [],
   "source": [
    "from sklearn.ensemble import BaggingClassifier #Bagging\n",
    "from sklearn.ensemble import RandomForestClassifier #Bagging\n",
    "from sklearn.tree import DecisionTreeClassifier #Bagging\n",
    "from sklearn.linear_model import LogisticRegression #Bagging\n",
    "from sklearn.ensemble import AdaBoostClassifier #Boosting (Decision tree will be used as base estimator)\n",
    "from sklearn.ensemble import GradientBoostingClassifier #Boosting\n",
    "import xgboost as xgb #Boosting\n",
    "from sklearn.metrics import accuracy_score #Accuracy\n",
    "from sklearn.model_selection import cross_val_score #Cross-Validation"
   ]
  },
  {
   "cell_type": "markdown",
   "id": "5d092e92",
   "metadata": {},
   "source": [
    "---"
   ]
  },
  {
   "cell_type": "markdown",
   "id": "c248ea70",
   "metadata": {},
   "source": [
    "__Random Forest with OOB and cross-validation score (Bagging) -__"
   ]
  },
  {
   "cell_type": "code",
   "execution_count": 24,
   "id": "14bc098d",
   "metadata": {},
   "outputs": [
    {
     "name": "stdout",
     "output_type": "stream",
     "text": [
      "Accuracy : 76.087%\n",
      "OOB Score : 77.035%\n",
      "Cross-Validation Scores :\n",
      "84.783%\n",
      "84.239%\n",
      "81.522%\n",
      "80.328%\n",
      "73.224%\n"
     ]
    }
   ],
   "source": [
    "# Define the random forest classifier\n",
    "randfo_model = RandomForestClassifier(n_estimators=10, oob_score=True, random_state=42)\n",
    " \n",
    "# Train the random forest model model\n",
    "randfo_model.fit(x_train, y_train)\n",
    " \n",
    "# Make predictions on the test set\n",
    "y_prediction = randfo_model.predict(x_test)\n",
    "\n",
    "# Cross Validaion Score\n",
    "scores = cross_val_score(randfo_model, x, y, cv=5)\n",
    "\n",
    "# Calculate the accuracy of the model\n",
    "accuracy_randfo = accuracy_score(y_test, y_prediction)\n",
    "\n",
    "#Taking the OOB score\n",
    "oob_score = randfo_model.oob_score_\n",
    "\n",
    "#print accuracy, cross-validation and OOB score\n",
    "print(\"Accuracy : %s\" % \"{0:.3%}\".format(accuracy_randfo))\n",
    "print(\"OOB Score : %s\" % \"{0:.3%}\".format(oob_score))\n",
    "print(\"Cross-Validation Scores :\")\n",
    "for cv_score in scores:\n",
    "    print(\"{:.3%}\".format(cv_score))"
   ]
  },
  {
   "cell_type": "markdown",
   "id": "d62d9f2f",
   "metadata": {},
   "source": [
    "__Decision Tree (Bagging) -__"
   ]
  },
  {
   "cell_type": "code",
   "execution_count": 25,
   "id": "d91bcc0e",
   "metadata": {},
   "outputs": [
    {
     "name": "stdout",
     "output_type": "stream",
     "text": [
      "Accuracy : 74.348%\n",
      "Cross-Validation Scores :\n",
      "82.065%\n",
      "81.522%\n",
      "82.609%\n",
      "79.781%\n",
      "68.852%\n"
     ]
    }
   ],
   "source": [
    "# Define the bagging classifier using the Decision tree model as the base estimator\n",
    "bagging_model = BaggingClassifier(base_estimator=DecisionTreeClassifier(), n_estimators=10, random_state=42)\n",
    " \n",
    "# Train the bagging model\n",
    "bagging_model.fit(x_train, y_train)\n",
    " \n",
    "# Make predictions on the test set\n",
    "y_prediction = bagging_model.predict(x_test)\n",
    "\n",
    "# Cross Validaion Score\n",
    "scores = cross_val_score(bagging_model, x, y, cv=5)\n",
    "\n",
    "# Calculate the accuracy of the model\n",
    "accuracy_dtrees = accuracy_score(y_test, y_prediction)\n",
    "\n",
    "#print accuracy and cross-validation score\n",
    "print(\"Accuracy : %s\" % \"{0:.3%}\".format(accuracy_dtrees))\n",
    "print(\"Cross-Validation Scores :\")\n",
    "for cv_score in scores:\n",
    "    print(\"{:.3%}\".format(cv_score))"
   ]
  },
  {
   "cell_type": "code",
   "execution_count": 26,
   "id": "81458ab9",
   "metadata": {},
   "outputs": [
    {
     "name": "stdout",
     "output_type": "stream",
     "text": [
      "Accuracy : 76.522%\n",
      "Cross-Validation Scores :\n",
      "84.783%\n",
      "80.978%\n",
      "82.609%\n",
      "78.689%\n",
      "73.224%\n"
     ]
    }
   ],
   "source": [
    "# Define the bagging classifier using the Decision tree model as the base estimator\n",
    "bagging_model = BaggingClassifier(base_estimator=DecisionTreeClassifier(), n_estimators=50, random_state=42)\n",
    " \n",
    "# Train the bagging model\n",
    "bagging_model.fit(x_train, y_train)\n",
    " \n",
    "# Make predictions on the test set\n",
    "y_prediction = bagging_model.predict(x_test)\n",
    "\n",
    "# Cross Validaion Score\n",
    "scores = cross_val_score(bagging_model, x, y, cv=5)\n",
    "\n",
    "# Calculate the accuracy of the model\n",
    "accuracy = accuracy_score(y_test, y_prediction)\n",
    "\n",
    "#print accuracy and cross-validation score\n",
    "print(\"Accuracy : %s\" % \"{0:.3%}\".format(accuracy))\n",
    "print(\"Cross-Validation Scores :\")\n",
    "for cv_score in scores:\n",
    "    print(\"{:.3%}\".format(cv_score))"
   ]
  },
  {
   "cell_type": "markdown",
   "id": "fa68d149",
   "metadata": {},
   "source": [
    "__Logistic Regression (Bagging) -__"
   ]
  },
  {
   "cell_type": "markdown",
   "id": "ebb6c54c",
   "metadata": {},
   "source": [
    "Normal Logistic Regression -"
   ]
  },
  {
   "cell_type": "code",
   "execution_count": 27,
   "id": "ec65fdda",
   "metadata": {},
   "outputs": [
    {
     "name": "stdout",
     "output_type": "stream",
     "text": [
      "Accuracy : 100.000%\n",
      "Cross-Validation Scores :\n",
      "80.978%\n",
      "79.891%\n",
      "81.522%\n",
      "82.514%\n",
      "74.863%\n"
     ]
    }
   ],
   "source": [
    "# Creating a logistic regression model\n",
    "logisticreg_model = LogisticRegression()\n",
    "\n",
    "# Training the logistic regression model\n",
    "logisticreg_model.fit(x_train, y_train)\n",
    "\n",
    "# Make predictions on the test set\n",
    "y_prediction = logisticreg_model.predict(x_test)\n",
    "\n",
    "# Cross Validation score\n",
    "scores = cross_val_score(logisticreg_model, x, y, cv=5)\n",
    "\n",
    "# Calculate the accuracy of the model\n",
    "accuracy = logisticreg_model.score(x_test, y_prediction)\n",
    "\n",
    "# Print accuracy and cross-validation score\n",
    "print(\"Accuracy : %s\" % \"{0:.3%}\".format(accuracy))\n",
    "print(\"Cross-Validation Scores :\")\n",
    "for cv_score in scores:\n",
    "    print(\"{:.3%}\".format(cv_score))"
   ]
  },
  {
   "cell_type": "markdown",
   "id": "8e24393c",
   "metadata": {},
   "source": [
    "Logistic Regression using Bagging Classifier -"
   ]
  },
  {
   "cell_type": "code",
   "execution_count": 28,
   "id": "5bdde0b8",
   "metadata": {},
   "outputs": [
    {
     "name": "stdout",
     "output_type": "stream",
     "text": [
      "Accuracy : 81.304%\n",
      "Cross-Validation Scores :\n",
      "80.978%\n",
      "78.804%\n",
      "80.978%\n",
      "82.514%\n",
      "74.317%\n"
     ]
    }
   ],
   "source": [
    "# Define the bagging classifier using the Logistic Regression model as the base estimator\n",
    "bagging_model = BaggingClassifier(base_estimator=LogisticRegression(), n_estimators=10, random_state=42)\n",
    " \n",
    "# Train the bagging model\n",
    "bagging_model.fit(x_train, y_train)\n",
    " \n",
    "# Make predictions on the test set\n",
    "y_prediction = bagging_model.predict(x_test)\n",
    "\n",
    "# Cross Validaion Score\n",
    "scores = cross_val_score(bagging_model, x, y, cv=5)\n",
    "\n",
    "# Calculate the accuracy of the model\n",
    "accuracy_logreg = accuracy_score(y_test, y_prediction)\n",
    "\n",
    "#print accuracy and cross-validation score\n",
    "print(\"Accuracy : %s\" % \"{0:.3%}\".format(accuracy_logreg))\n",
    "print(\"Cross-Validation Scores :\")\n",
    "for cv_score in scores:\n",
    "    print(\"{:.3%}\".format(cv_score))"
   ]
  },
  {
   "cell_type": "code",
   "execution_count": 29,
   "id": "416bbbcb",
   "metadata": {},
   "outputs": [
    {
     "name": "stdout",
     "output_type": "stream",
     "text": [
      "Accuracy : 81.304%\n",
      "Cross-Validation Scores :\n",
      "80.978%\n",
      "79.891%\n",
      "81.522%\n",
      "82.514%\n",
      "74.863%\n"
     ]
    }
   ],
   "source": [
    "# Define the bagging classifier using the Logistic Regression model as the base estimator\n",
    "bagging_model = BaggingClassifier(base_estimator=LogisticRegression(), n_estimators=50, random_state=42)\n",
    " \n",
    "# Train the bagging model\n",
    "bagging_model.fit(x_train, y_train)\n",
    " \n",
    "# Make predictions on the test set\n",
    "y_prediction = bagging_model.predict(x_test)\n",
    "\n",
    "# Cross Validaion Score\n",
    "scores = cross_val_score(bagging_model, x, y, cv=5)\n",
    "\n",
    "# Calculate the accuracy of the model\n",
    "accuracy = accuracy_score(y_test, y_prediction)\n",
    "\n",
    "#print accuracy and cross-validation score\n",
    "print(\"Accuracy : %s\" % \"{0:.3%}\".format(accuracy))\n",
    "print(\"Cross-Validation Scores :\")\n",
    "for cv_score in scores:\n",
    "    print(\"{:.3%}\".format(cv_score))"
   ]
  },
  {
   "cell_type": "markdown",
   "id": "be50df00",
   "metadata": {},
   "source": [
    "__AdaBoost using Decision Tree as a base estimator (Boosting) -__"
   ]
  },
  {
   "cell_type": "code",
   "execution_count": 30,
   "id": "beaa5623",
   "metadata": {},
   "outputs": [
    {
     "name": "stdout",
     "output_type": "stream",
     "text": [
      "Accuracy : 76.522%\n",
      "Cross-Validation Scores :\n",
      "77.174%\n",
      "73.370%\n",
      "78.261%\n",
      "78.142%\n",
      "66.667%\n"
     ]
    }
   ],
   "source": [
    "# Define AdaBoost using the Decision tree model as the base estimator\n",
    "adaboost_model = AdaBoostClassifier(base_estimator=DecisionTreeClassifier(), n_estimators=10, random_state=42)\n",
    " \n",
    "# Train the boosting model\n",
    "adaboost_model.fit(x_train, y_train)\n",
    " \n",
    "# Make predictions on the test set\n",
    "y_prediction = adaboost_model.predict(x_test)\n",
    "\n",
    "# Cross Validaion Score\n",
    "scores = cross_val_score(adaboost_model, x, y, cv=5)\n",
    "\n",
    "# Calculate the accuracy of the model\n",
    "accuracy_adaBdtree = accuracy_score(y_test, y_prediction)\n",
    "\n",
    "#print accuracy and cross-validation score\n",
    "print(\"Accuracy : %s\" % \"{0:.3%}\".format(accuracy_adaBdtree))\n",
    "print(\"Cross-Validation Scores :\")\n",
    "for cv_score in scores:\n",
    "    print(\"{:.3%}\".format(cv_score))"
   ]
  },
  {
   "cell_type": "code",
   "execution_count": 31,
   "id": "23deba56",
   "metadata": {
    "scrolled": true
   },
   "outputs": [
    {
     "name": "stdout",
     "output_type": "stream",
     "text": [
      "Accuracy : 76.957%\n",
      "Cross-Validation Scores :\n",
      "77.174%\n",
      "73.370%\n",
      "78.261%\n",
      "78.142%\n",
      "66.667%\n"
     ]
    }
   ],
   "source": [
    "# Define AdaBoost using the Decision tree model as the base estimator\n",
    "adaboost_model = AdaBoostClassifier(base_estimator=DecisionTreeClassifier(), n_estimators=50, random_state=42)\n",
    " \n",
    "# Train the boosting model\n",
    "adaboost_model.fit(x_train, y_train)\n",
    " \n",
    "# Make predictions on the test set\n",
    "y_prediction = adaboost_model.predict(x_test)\n",
    "\n",
    "# Cross Validaion Score\n",
    "scores = cross_val_score(adaboost_model, x, y, cv=5)\n",
    "\n",
    "# Calculate the accuracy of the model\n",
    "accuracy = accuracy_score(y_test, y_prediction)\n",
    "\n",
    "#print accuracy and cross-validation score\n",
    "print(\"Accuracy : %s\" % \"{0:.3%}\".format(accuracy))\n",
    "print(\"Cross-Validation Scores :\")\n",
    "for cv_score in scores:\n",
    "    print(\"{:.3%}\".format(cv_score))"
   ]
  },
  {
   "cell_type": "markdown",
   "id": "0289ed65",
   "metadata": {},
   "source": [
    "__AdaBoost using Logistic regression as a base estimator (Boosting) -__"
   ]
  },
  {
   "cell_type": "code",
   "execution_count": 32,
   "id": "47965e2d",
   "metadata": {},
   "outputs": [
    {
     "name": "stdout",
     "output_type": "stream",
     "text": [
      "Accuracy : 77.826%\n",
      "Cross-Validation Scores :\n",
      "78.261%\n",
      "82.065%\n",
      "78.804%\n",
      "80.874%\n",
      "74.863%\n"
     ]
    }
   ],
   "source": [
    "# Define AdaBoost using the Logistic regression model as the base estimator\n",
    "adaboost_model = AdaBoostClassifier(base_estimator=LogisticRegression(), n_estimators=10, random_state=42)\n",
    " \n",
    "# Train the boosting model\n",
    "adaboost_model.fit(x_train, y_train)\n",
    " \n",
    "# Make predictions on the test set\n",
    "y_prediction = adaboost_model.predict(x_test)\n",
    "\n",
    "# Cross Validaion Score\n",
    "scores = cross_val_score(adaboost_model, x, y, cv=5)\n",
    "\n",
    "# Calculate the accuracy of the model\n",
    "accuracy_adaBlogreg = accuracy_score(y_test, y_prediction)\n",
    "\n",
    "#print accuracy and cross-validation score\n",
    "print(\"Accuracy : %s\" % \"{0:.3%}\".format(accuracy_adaBlogreg))\n",
    "print(\"Cross-Validation Scores :\")\n",
    "for cv_score in scores:\n",
    "    print(\"{:.3%}\".format(cv_score))"
   ]
  },
  {
   "cell_type": "code",
   "execution_count": 33,
   "id": "e040d4dd",
   "metadata": {},
   "outputs": [
    {
     "name": "stdout",
     "output_type": "stream",
     "text": [
      "Accuracy : 81.304%\n",
      "Cross-Validation Scores :\n",
      "80.435%\n",
      "78.804%\n",
      "80.978%\n",
      "80.328%\n",
      "73.770%\n"
     ]
    }
   ],
   "source": [
    "# Define AdaBoost using the Logistic regression model as the base estimator\n",
    "adaboost_model = AdaBoostClassifier(base_estimator=LogisticRegression(), n_estimators=50, random_state=42)\n",
    " \n",
    "# Train the boosting model\n",
    "adaboost_model.fit(x_train, y_train)\n",
    " \n",
    "# Make predictions on the test set\n",
    "y_prediction = adaboost_model.predict(x_test)\n",
    "\n",
    "# Cross Validaion Score\n",
    "scores = cross_val_score(adaboost_model, x, y, cv=5)\n",
    "\n",
    "# Calculate the accuracy of the model\n",
    "accuracy = accuracy_score(y_test, y_prediction)\n",
    "\n",
    "#print accuracy and cross-validation score\n",
    "print(\"Accuracy : %s\" % \"{0:.3%}\".format(accuracy))\n",
    "print(\"Cross-Validation Scores :\")\n",
    "for cv_score in scores:\n",
    "    print(\"{:.3%}\".format(cv_score))"
   ]
  },
  {
   "cell_type": "markdown",
   "id": "ec7d63ce",
   "metadata": {},
   "source": [
    "__Gradient Boosting (Boosting) -__"
   ]
  },
  {
   "cell_type": "code",
   "execution_count": 34,
   "id": "56bd9d25",
   "metadata": {},
   "outputs": [
    {
     "name": "stdout",
     "output_type": "stream",
     "text": [
      "Accuracy : 83.913%\n",
      "Cross-Validation Scores :\n",
      "91.304%\n",
      "84.783%\n",
      "79.891%\n",
      "79.781%\n",
      "72.131%\n"
     ]
    }
   ],
   "source": [
    "# Define Gradient Boosting\n",
    "gradientboost_model = GradientBoostingClassifier(n_estimators=10, learning_rate=0.1, random_state=42)\n",
    "\n",
    "# Train the boosting model\n",
    "gradientboost_model.fit(x_train, y_train)\n",
    " \n",
    "# Make predictions on the test set\n",
    "y_prediction = gradientboost_model.predict(x_test)\n",
    "\n",
    "# Cross Validaion Score\n",
    "scores = cross_val_score(gradientboost_model, x, y, cv=5)\n",
    "\n",
    "# Calculate the accuracy of the model\n",
    "accuracy_gradB = accuracy_score(y_test, y_prediction)\n",
    "\n",
    "#print accuracy and cross-validation score\n",
    "print(\"Accuracy : %s\" % \"{0:.3%}\".format(accuracy_gradB))\n",
    "print(\"Cross-Validation Scores :\")\n",
    "for cv_score in scores:\n",
    "    print(\"{:.3%}\".format(cv_score))"
   ]
  },
  {
   "cell_type": "code",
   "execution_count": 35,
   "id": "c3f820e8",
   "metadata": {},
   "outputs": [
    {
     "name": "stdout",
     "output_type": "stream",
     "text": [
      "Accuracy : 82.609%\n",
      "Cross-Validation Scores :\n",
      "87.500%\n",
      "85.870%\n",
      "81.522%\n",
      "80.874%\n",
      "74.863%\n"
     ]
    }
   ],
   "source": [
    "# Define Gradient Boosting\n",
    "gradientboost_model = GradientBoostingClassifier(n_estimators=50, learning_rate=0.1, random_state=42)\n",
    "\n",
    "# Train the boosting model\n",
    "gradientboost_model.fit(x_train, y_train)\n",
    " \n",
    "# Make predictions on the test set\n",
    "y_prediction = gradientboost_model.predict(x_test)\n",
    "\n",
    "# Cross Validaion Score\n",
    "scores = cross_val_score(gradientboost_model, x, y, cv=5)\n",
    "\n",
    "# Calculate the accuracy of the model\n",
    "accuracy = accuracy_score(y_test, y_prediction)\n",
    "\n",
    "#print accuracy and cross-validation score\n",
    "print(\"Accuracy : %s\" % \"{0:.3%}\".format(accuracy))\n",
    "print(\"Cross-Validation Scores :\")\n",
    "for cv_score in scores:\n",
    "    print(\"{:.3%}\".format(cv_score))"
   ]
  },
  {
   "cell_type": "markdown",
   "id": "c94e3ead",
   "metadata": {},
   "source": [
    "__XGBoost (Boosting) -__"
   ]
  },
  {
   "cell_type": "code",
   "execution_count": 36,
   "id": "835977de",
   "metadata": {},
   "outputs": [
    {
     "name": "stdout",
     "output_type": "stream",
     "text": [
      "Accuracy : 81.304%\n",
      "Cross-Validation Scores :\n",
      "91.848%\n",
      "82.609%\n",
      "80.435%\n",
      "75.956%\n",
      "72.678%\n"
     ]
    }
   ],
   "source": [
    "# Define XGBoost\n",
    "xgboost_model = xgb.XGBClassifier(n_estimators=10, learning_rate=0.1, random_state=42)\n",
    "\n",
    "# Train the boosting model\n",
    "xgboost_model.fit(x_train, y_train)\n",
    " \n",
    "# Make predictions on the test set\n",
    "y_prediction = xgboost_model.predict(x_test)\n",
    "\n",
    "# Cross Validaion Score\n",
    "scores = cross_val_score(xgboost_model, x, y, cv=5)\n",
    "\n",
    "# Calculate the accuracy of the model\n",
    "accuracy_xgB = accuracy_score(y_test, y_prediction)\n",
    "\n",
    "#print accuracy and cross-validation score\n",
    "print(\"Accuracy : %s\" % \"{0:.3%}\".format(accuracy_xgB))\n",
    "print(\"Cross-Validation Scores :\")\n",
    "for cv_score in scores:\n",
    "    print(\"{:.3%}\".format(cv_score))"
   ]
  },
  {
   "cell_type": "code",
   "execution_count": 37,
   "id": "ed8aac8d",
   "metadata": {},
   "outputs": [
    {
     "name": "stdout",
     "output_type": "stream",
     "text": [
      "Accuracy : 78.696%\n",
      "Cross-Validation Scores :\n",
      "88.043%\n",
      "85.870%\n",
      "83.152%\n",
      "80.328%\n",
      "74.317%\n"
     ]
    }
   ],
   "source": [
    "# Define XGBoost\n",
    "xgboost_model = xgb.XGBClassifier(n_estimators=50, learning_rate=0.1, random_state=42)\n",
    "\n",
    "# Train the boosting model\n",
    "xgboost_model.fit(x_train, y_train)\n",
    " \n",
    "# Make predictions on the test set\n",
    "y_prediction = xgboost_model.predict(x_test)\n",
    "\n",
    "# Cross Validaion Score\n",
    "scores = cross_val_score(xgboost_model, x, y, cv=5)\n",
    "\n",
    "# Calculate the accuracy of the model\n",
    "accuracy = accuracy_score(y_test, y_prediction)\n",
    "\n",
    "#print accuracy and cross-validation score\n",
    "print(\"Accuracy : %s\" % \"{0:.3%}\".format(accuracy))\n",
    "print(\"Cross-Validation Scores :\")\n",
    "for cv_score in scores:\n",
    "    print(\"{:.3%}\".format(cv_score))"
   ]
  },
  {
   "cell_type": "markdown",
   "id": "217389a9",
   "metadata": {},
   "source": [
    "__Comparison of all the algorithms with their accuracy's -__"
   ]
  },
  {
   "cell_type": "code",
   "execution_count": 38,
   "id": "8dba69da",
   "metadata": {
    "scrolled": false
   },
   "outputs": [
    {
     "data": {
      "image/png": "[encoded data removed]",
      "text/plain": [
       "<Figure size 1500x700 with 1 Axes>"
      ]
     },
     "metadata": {},
     "output_type": "display_data"
    }
   ],
   "source": [
    "algos = ['Random Forest', 'Decision Tree','Logistic Reg.', 'AdaBoost (Decision tree)', 'AdaBoost (Log. reg.)', 'Gradient Boost.', 'XGBoost']\n",
    "accuracies = [accuracy_randfo, accuracy_dtrees ,accuracy_logreg, accuracy_adaBdtree, accuracy_adaBlogreg, accuracy_gradB, accuracy_xgB]\n",
    "\n",
    "sns.set(rc={'figure.figsize':(15,7)})\n",
    "plt.xlabel(\"Algorithms\")\n",
    "plt.ylabel(\"Accuracy score\")\n",
    "plt.title(\"Prediction without Standardisation\")\n",
    "\n",
    "sns.barplot(x = algos, y = accuracies)\n",
    "plt.show()"
   ]
  },
  {
   "cell_type": "code",
   "execution_count": null,
   "id": "9015fca1",
   "metadata": {},
   "outputs": [],
   "source": []
  }
 ],
 "metadata": {
  "kernelspec": {
   "display_name": "Python 3 (ipykernel)",
   "language": "python",
   "name": "python3"
  },
  "language_info": {
   "codemirror_mode": {
    "name": "ipython",
    "version": 3
   },
   "file_extension": ".py",
   "mimetype": "text/x-python",
   "name": "python",
   "nbconvert_exporter": "python",
   "pygments_lexer": "ipython3",
   "version": "3.10.9"
  }
 },
 "nbformat": 4,
 "nbformat_minor": 5
}
